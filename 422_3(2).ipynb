{
  "nbformat": 4,
  "nbformat_minor": 0,
  "metadata": {
    "colab": {
      "provenance": []
    },
    "kernelspec": {
      "name": "python3",
      "display_name": "Python 3"
    },
    "language_info": {
      "name": "python"
    }
  },
  "cells": [
    {
      "cell_type": "code",
      "execution_count": null,
      "metadata": {
        "colab": {
          "base_uri": "https://localhost:8080/"
        },
        "id": "FfbCfneq6eQX",
        "outputId": "92cf5f94-b6fe-42e7-ed71-9136827e24cd"
      },
      "outputs": [
        {
          "output_type": "stream",
          "name": "stdout",
          "text": [
            "Enter Input your student Id: 21201153\n",
            "Input range using , : 1,20\n",
            "20 1\n",
            "16\n",
            "depth and branch ratio 4 : 2\n",
            "Terminal states (leaf node value) are [3, 8, 9, 9, 3, 6, 4, 13, 12, 2, 10, 16, 9, 17, 1, 1]\n",
            "9\n",
            "15\n",
            "Left life(HP) of the defender after maximum damage caused by the attacker is  26\n",
            "4.\tAfter Alpha-Beta Pruning Leaf Node Comparisons  1\n"
          ]
        }
      ],
      "source": [
        "import random\n",
        "\n",
        "id=input(\"Enter Input your student Id: \")\n",
        "damage_range=input(\"Input range using , : \").split(\",\")\n",
        "low=int(damage_range[0])\n",
        "high=int(damage_range[-1])\n",
        "print(high, low)\n",
        "\n",
        "depth=int(id[0])*2\n",
        "bran=int(id[2])\n",
        "in_hp=int((id[-1]+id[-2]))\n",
        "#print(in_hp)\n",
        "k=bran**depth\n",
        "print(k)\n",
        "#spawning nodes\n",
        "points = []\n",
        "for a in range(k):\n",
        "  r = random.randint(low, high)\n",
        "  points.append(r)\n",
        "#points=[18,13,5,12,10,5,13,7,17,8,6,8,5,11,13,18]\n",
        "#print statements\n",
        "print(\"depth and branch ratio\", depth, \":\",bran)\n",
        "print(\"Terminal states (leaf node value) are\", points)\n",
        "\n",
        "#alphabetaprune\n",
        "alpha = -float('inf')\n",
        "beta = float('inf')\n",
        "tracker=0\n",
        "\n",
        "def alpha_beta_pruning(level, index, MinMaxState, all_points, alpha, beta,d,bran):\n",
        "  global tracker\n",
        "  if level == d:\n",
        "      tracker+=1\n",
        "      return all_points[index]\n",
        "\n",
        "  if MinMaxState == True:\n",
        "      largest_point = alpha\n",
        "      for i in range(bran):\n",
        "          value = alpha_beta_pruning(level+1, index * 2 + i, False, all_points, alpha, beta,d, bran)\n",
        "          largest_point = max(largest_point, value)\n",
        "          alpha = max(alpha, largest_point)\n",
        "          if alpha >= beta:\n",
        "              break\n",
        "      return largest_point\n",
        "\n",
        "  else:\n",
        "      smallest_point = beta\n",
        "      for i in range(bran):\n",
        "          value = alpha_beta_pruning(level+1, index * 2 + i, True, all_points, alpha, beta,d, bran)\n",
        "          smallest_point = min(smallest_point, value)\n",
        "          beta = min(beta, smallest_point)\n",
        "          if alpha >= beta:\n",
        "              break\n",
        "      return smallest_point\n",
        "\n",
        "res= alpha_beta_pruning(0, 0, True, points, alpha, beta, depth, bran)\n",
        "print(res)\n",
        "print(tracker)\n",
        "hp=in_hp-res\n",
        "com=k-tracker\n",
        "#printing part2\n",
        "\n",
        "print(\"Left life(HP) of the defender after maximum damage caused by the attacker is \", hp)\n",
        "print(\"4.\tAfter Alpha-Beta Pruning Leaf Node Comparisons \",com)"
      ]
    },
    {
      "cell_type": "code",
      "source": [],
      "metadata": {
        "id": "0Lu2dD24nBzf"
      },
      "execution_count": null,
      "outputs": []
    }
  ]
}